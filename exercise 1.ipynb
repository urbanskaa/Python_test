{
 "cells": [
  {
   "cell_type": "markdown",
   "metadata": {},
   "source": [
    "## Zadanie 1\n",
    "\n",
    "Napisz funkcję `create_list(a, b, c)`, która przyjmie trzy argumenty dowolnego typu, a następnie zwróci listę, w której elementami będą kolejno wartości argumentów: `a`, `b`, `c`, `b`, `a`.\n",
    "\n",
    "##### Przykład:\n",
    "\n",
    "```python\n",
    "my_list = create_list(1, 2, 3)  # wynik: [1, 2, 3, 2, 1]\n",
    "```"
   ]
  },
  {
   "cell_type": "code",
   "execution_count": 1,
   "metadata": {},
   "outputs": [],
   "source": [
    "# Tu napisz funkcję \"create_list\"\n",
    "\n",
    "def create_list(a, b, c):\n",
    "    lista = [a, b, c, b, a]\n",
    "    return lista"
   ]
  },
  {
   "cell_type": "code",
   "execution_count": 2,
   "metadata": {},
   "outputs": [
    {
     "name": "stdout",
     "output_type": "stream",
     "text": [
      "Zaliczone!\n",
      "Zaliczone!\n"
     ]
    }
   ],
   "source": [
    "if create_list(7, 8, 9) == list(range(7, 10)) + [8] + [7]:\n",
    "    print('Zaliczone!')\n",
    "else:\n",
    "    print('Oczekiwano, że dla argumentów 7, 8, 9 funkcja zwróci listę [7, 8, 9, 8, 7]')\n",
    "    print('Twoja funkcja zwróciła:', create_list(7, 8, 9))\n",
    "\n",
    "\n",
    "if create_list('Huey', 'Dewey', 'Louie') == 'Huey.Dewey.Louie.Dewey.Huey'.split('.'):\n",
    "    print('Zaliczone!')\n",
    "else:\n",
    "    print(\n",
    "        \"Oczekiwano, że dla argumentów 'Huey', 'Dewey', 'Louie' funkcja zwróci listę: \"\n",
    "        \"['Huey', 'Dewey', 'Louie', 'Dewey', 'Huey']\"\n",
    "    )\n",
    "    print(\"Twoja funkcja zwróciła:\", create_list('Huey', 'Dewey', 'Louie'))"
   ]
  }
 ],
 "metadata": {
  "kernelspec": {
   "display_name": "Python 3 (ipykernel)",
   "language": "python",
   "name": "python3"
  },
  "language_info": {
   "codemirror_mode": {
    "name": "ipython",
    "version": 3
   },
   "file_extension": ".py",
   "mimetype": "text/x-python",
   "name": "python",
   "nbconvert_exporter": "python",
   "pygments_lexer": "ipython3",
   "version": "3.10.9"
  }
 },
 "nbformat": 4,
 "nbformat_minor": 4
}
