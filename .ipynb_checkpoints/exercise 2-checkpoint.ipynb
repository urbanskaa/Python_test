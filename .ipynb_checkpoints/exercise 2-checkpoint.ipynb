{
 "cells": [
  {
   "cell_type": "markdown",
   "metadata": {},
   "source": [
    "## Zadanie 2\n",
    "\n",
    "Napisz funkcję `histogram(list_of_integers)`, która w pętli, dla każdej liczby w liście wyświetli tyle znaków `#` ile wynosi ta liczba - dla każdej liczby w osobnej linii.\n",
    "\n",
    "Podpowiedź: Aby wygenerować tekst o powtarzającej się treści, możesz pomnożyć ten tekst przez liczbę typu `int`:\n",
    "```python\n",
    "\"na\" * 16 + \" Batman!\"\n",
    "```\n",
    "\n",
    "##### Przykład\n",
    "```python\n",
    "histogram([3, 9, 1, 5])\n",
    "```\n",
    "\n",
    "```python\n",
    "###\n",
    "#########\n",
    "#\n",
    "#####\n",
    "```"
   ]
  },
  {
   "cell_type": "code",
   "execution_count": null,
   "metadata": {},
   "outputs": [],
   "source": [
    "# Tu napisz funkcję \"histogram\""
   ]
  },
  {
   "cell_type": "code",
   "execution_count": null,
   "metadata": {},
   "outputs": [],
   "source": [
    "# Kod testów automatycznych - nie do edycji!\n",
    "import sys\n",
    "import io\n",
    "_real_stdout = sys.stdout\n",
    "\n",
    "sys.stdout = io.StringIO()\n",
    "histogram([1,2,3,4])\n",
    "sys.stdout.seek(0)\n",
    "if sys.stdout.read().strip().split() == ['#', '##', '###', '####']:\n",
    "    print('Zaliczone!', file=_real_stdout)\n",
    "else:\n",
    "    print('Funkcja histogram nie wyświetliła słupków o oczekiwanej długości', file=_real_stdout)\n",
    "    print('Funkcja wyświetliła', file=_real_stdout)\n",
    "    sys.stdout.seek(0)\n",
    "    print(sys.stdout.read(), file=_real_stdout)\n",
    "    print('Zamiast oczekiwanych:\\n#\\n##\\n###\\n####\\n', file=_real_stdout)\n",
    "\n",
    "sys.stdout = io.StringIO()\n",
    "histogram([4,7,2])\n",
    "sys.stdout.seek(0)\n",
    "if sys.stdout.read().strip().split() == ['####', '#######', '##']:\n",
    "    print('Zaliczone!', file=_real_stdout)\n",
    "else:\n",
    "    print('Funkcja histogram nie wyświetliła słupków o oczekiwanej długości', file=_real_stdout)\n",
    "    print('Funkcja wyświetliła', file=_real_stdout)\n",
    "    sys.stdout.seek(0)\n",
    "    print(sys.stdout.read(), file=_real_stdout)\n",
    "    print('Zamiast oczekiwanych:\\n####\\n#######\\n##\\n', file=_real_stdout)\n",
    "\n",
    "sys.stdout = _real_stdout"
   ]
  }
 ],
 "metadata": {
  "kernelspec": {
   "display_name": "Python 3 (ipykernel)",
   "language": "python",
   "name": "python3"
  },
  "language_info": {
   "codemirror_mode": {
    "name": "ipython",
    "version": 3
   },
   "file_extension": ".py",
   "mimetype": "text/x-python",
   "name": "python",
   "nbconvert_exporter": "python",
   "pygments_lexer": "ipython3",
   "version": "3.10.9"
  }
 },
 "nbformat": 4,
 "nbformat_minor": 4
}
