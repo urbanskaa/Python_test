{
 "cells": [
  {
   "cell_type": "markdown",
   "metadata": {},
   "source": [
    "## Zadanie 3\n",
    "\n",
    "Napisz funkcję `find_short_words`, która przyjmie listę wyrazów.\n",
    "Funkcja powinna zwrócić listę słów krótszych od 5 znaków.\n",
    "\n",
    "##### Przykład\n",
    "```python\n",
    "l = find_short_words(['Litwo', 'ojczyzno', 'moja', 'ty', 'jesteś', 'jak', 'zdrowie'])\n",
    "print(l)\n",
    "```\n",
    "```\n",
    "['moja', 'ty', 'jak']\n",
    "```"
   ]
  },
  {
   "cell_type": "code",
   "execution_count": 21,
   "metadata": {},
   "outputs": [],
   "source": [
    "def find_short_words(lst):\n",
    "    output = []\n",
    "    for word in lst:\n",
    "        if len(word) < 5:\n",
    "            output.append(word)\n",
    "    return output      \n",
    "    "
   ]
  },
  {
   "cell_type": "code",
   "execution_count": 22,
   "metadata": {},
   "outputs": [
    {
     "name": "stdout",
     "output_type": "stream",
     "text": [
      "Zaliczone!\n"
     ]
    }
   ],
   "source": [
    "test_list = ['Jackdaws', 'love', 'my', 'big', 'sphinx', 'of', 'quartz']\n",
    "result = find_short_words(test_list)\n",
    "\n",
    "if find_short_words(test_list) == ['love', 'my', 'big', 'of']:\n",
    "    print('Zaliczone!')\n",
    "else:\n",
    "    print('Dla tekstu \"Jackdaws love my big sphinx of quartz\" oczekiwano wyniku:')\n",
    "    print('[\"love\", \"my\", \"big\", \"of\"]')\n",
    "    print('Ale funkcja zwróciła:', result)"
   ]
  },
  {
   "cell_type": "code",
   "execution_count": 17,
   "metadata": {},
   "outputs": [],
   "source": [
    "def find_short_words(lst):\n",
    "    output = [ word for word in lst if len(word) < 5]\n",
    "    return output "
   ]
  },
  {
   "cell_type": "code",
   "execution_count": 18,
   "metadata": {},
   "outputs": [
    {
     "name": "stdout",
     "output_type": "stream",
     "text": [
      "Zaliczone!\n"
     ]
    }
   ],
   "source": [
    "test_list = ['Jackdaws', 'love', 'my', 'big', 'sphinx', 'of', 'quartz']\n",
    "result = find_short_words(test_list)\n",
    "\n",
    "if find_short_words(test_list) == ['love', 'my', 'big', 'of']:\n",
    "    print('Zaliczone!')\n",
    "else:\n",
    "    print('Dla tekstu \"Jackdaws love my big sphinx of quartz\" oczekiwano wyniku:')\n",
    "    print('[\"love\", \"my\", \"big\", \"of\"]')\n",
    "    print('Ale funkcja zwróciła:', result)"
   ]
  },
  {
   "cell_type": "code",
   "execution_count": null,
   "metadata": {},
   "outputs": [],
   "source": []
  }
 ],
 "metadata": {
  "interpreter": {
   "hash": "40c9509d1f5ac2980ae5e2628be771c44b85108102f25794454cd70593b3b9a3"
  },
  "kernelspec": {
   "display_name": "Python 3 (ipykernel)",
   "language": "python",
   "name": "python3"
  },
  "language_info": {
   "codemirror_mode": {
    "name": "ipython",
    "version": 3
   },
   "file_extension": ".py",
   "mimetype": "text/x-python",
   "name": "python",
   "nbconvert_exporter": "python",
   "pygments_lexer": "ipython3",
   "version": "3.10.9"
  }
 },
 "nbformat": 4,
 "nbformat_minor": 4
}
